{
 "cells": [
  {
   "cell_type": "code",
   "execution_count": 1,
   "metadata": {},
   "outputs": [],
   "source": [
    "import importlib\n",
    "import sys\n",
    "from pdfminer.pdfparser import PDFParser, PDFDocument\n",
    "from pdfminer.pdfinterp import PDFResourceManager, PDFPageInterpreter\n",
    "from pdfminer.converter import PDFPageAggregator\n",
    "from pdfminer.layout import LTTextBoxHorizontal, LAParams\n",
    "from pdfminer.pdfinterp import PDFTextExtractionNotAllowed\n",
    "import os\n",
    "from PyPDF2 import PdfFileReader\n",
    "from PyPDF2 import PdfFileWriter\n",
    " \n",
    "importlib.reload(sys)\n",
    "\n",
    "\n",
    "def get_reader(filename, password):\n",
    "    try:\n",
    "        old_file = open(filename, 'rb')\n",
    "        print(filename+' run  ok:)')\n",
    "    except Exception as err:\n",
    "        print('打開失敗！' + str(err))\n",
    "        return None\n",
    " \n",
    "    pdf_reader = PdfFileReader(old_file, strict=False)\n",
    " \n",
    "    if pdf_reader.isEncrypted:\n",
    "        if password is None:\n",
    "            print('%s需要密碼！' % filename)\n",
    "            return None\n",
    "        else:\n",
    "            if pdf_reader.decrypt(password) != 1:\n",
    "                print('%s密碼錯誤！' % filename)\n",
    "                return None\n",
    "    if old_file in locals():\n",
    "        old_file.close()\n",
    "    return pdf_reader\n",
    " \n",
    "def decrypt_pdf(filename, password, decrypted_filename=None):\n",
    "    pdf_reader = get_reader(filename, password)\n",
    "    if pdf_reader is None:\n",
    "        return\n",
    "    pdf_writer = PdfFileWriter()\n",
    "    pdf_writer.appendPagesFromReader(pdf_reader)\n",
    " \n",
    "    if decrypted_filename is None:\n",
    "        decrypted_filename = 'new'+filename\n",
    " \n",
    "    pdf_writer.write(open(decrypted_filename, 'wb'))    \n",
    "\n",
    "    text_path = decrypted_filename\n",
    "    fp = open(text_path, 'rb')\n",
    "    parser = PDFParser(fp)\n",
    "    doc = PDFDocument()\n",
    "    parser.set_document(doc)\n",
    "    doc.set_parser(parser)\n",
    "    doc.initialize()\n",
    "     \n",
    "    if not doc.is_extractable:\n",
    "        raise PDFTextExtractionNotAllowed\n",
    "    else:\n",
    "        f = open(f'C://Users/op1/Desktop/Pyfile/上手風控/data/{text_path.replace(\"pdf\",\"txt\")}', 'w')\n",
    "        rsrcmgr = PDFResourceManager()\n",
    "        laparams = LAParams()\n",
    "        device = PDFPageAggregator(rsrcmgr, laparams=laparams)\n",
    "        interpreter = PDFPageInterpreter(rsrcmgr, device)\n",
    "        for page in doc.get_pages():\n",
    "            interpreter.process_page(page)\n",
    "            layout = device.get_result()\n",
    "            \n",
    "            for x in layout:\n",
    "                if (isinstance(x, LTTextBoxHorizontal)):\n",
    "                    results = x.get_text()\n",
    "                    f.write(results + \"\\n\")\n",
    "        f.close()"
   ]
  },
  {
   "cell_type": "code",
   "execution_count": 2,
   "metadata": {
    "scrolled": false
   },
   "outputs": [
    {
     "name": "stdout",
     "output_type": "stream",
     "text": [
      "20\n",
      "2021-05-20.twnrpts.pdf run  ok:)\n",
      "20210520_DLY_STMT.pdf run  ok:)\n",
      "dstm102941-R2390.pdf run  ok:)\n",
      "PSI9000_20210520.pdf run  ok:)\n",
      "['new2021-05-20.twnrpts.pdf', 'new20210520_DLY_STMT.pdf', 'newdstm102941-R2390.pdf', 'newPSI9000_20210520.pdf']\n"
     ]
    }
   ],
   "source": [
    "\n",
    "for i in range(20,21):\n",
    "    try:\n",
    "        print(i)\n",
    "        os.chdir(f'//10.36.205.170/交易結算部/國外/對帳/對帳資料/110對帳資料/05{i:02d}')\n",
    "        fileList = os.listdir()\n",
    "        fileList = [i for i in os.listdir() if i[-3:] == 'pdf'and ('twn' in i or 'DLY'in i or 'R2390'in i or 'PSI9000'in i)]\n",
    "\n",
    "        for i in fileList:\n",
    "            if 'PSI' in i:\n",
    "                decrypt_pdf(i, '84310042')\n",
    "            else:\n",
    "                decrypt_pdf(i, '')\n",
    "\n",
    "\n",
    "        delpdf = [i for i in os.listdir() if i[-3:] == 'pdf' and 'new' in i]\n",
    " \n",
    "        for i in delpdf:\n",
    "            os.remove(i)\n",
    "        print(delpdf)\n",
    "    except FileNotFoundError:\n",
    "        print(i,' 無資料')\n",
    "        \n",
    "        "
   ]
  },
  {
   "cell_type": "code",
   "execution_count": 9,
   "metadata": {},
   "outputs": [],
   "source": [
    "#    更改檔名\n",
    "import os\n",
    "os.chdir('C:/Users/op1/Desktop/Pyfile/新增資料夾')\n",
    "files = os.listdir()\n",
    "for i in files:\n",
    "    na = i[0:4]+'-'+i[4:]\n",
    "    os.rename(i,na)"
   ]
  }
 ],
 "metadata": {
  "kernelspec": {
   "display_name": "Python 3",
   "language": "python",
   "name": "python3"
  },
  "varInspector": {
   "cols": {
    "lenName": 16,
    "lenType": 16,
    "lenVar": 40
   },
   "kernels_config": {
    "python": {
     "delete_cmd_postfix": "",
     "delete_cmd_prefix": "del ",
     "library": "var_list.py",
     "varRefreshCmd": "print(var_dic_list())"
    },
    "r": {
     "delete_cmd_postfix": ") ",
     "delete_cmd_prefix": "rm(",
     "library": "var_list.r",
     "varRefreshCmd": "cat(var_dic_list()) "
    }
   },
   "oldHeight": 320,
   "position": {
    "height": "205px",
    "left": "1390px",
    "right": "20px",
    "top": "95px",
    "width": "350px"
   },
   "types_to_exclude": [
    "module",
    "function",
    "builtin_function_or_method",
    "instance",
    "_Feature"
   ],
   "varInspector_section_display": "block",
   "window_display": false
  }
 },
 "nbformat": 4,
 "nbformat_minor": 4
}
